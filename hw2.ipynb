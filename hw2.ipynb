{
 "cells": [
  {
   "cell_type": "markdown",
   "metadata": {},
   "source": [
    "# Homework 2"
   ]
  },
  {
   "cell_type": "markdown",
   "metadata": {},
   "source": [
    "You're designing a light rail system with a maximum speed $v_{max}$. It accelerates at rate $a$ and brakes at rate $b$. People walk to stops at rate $v_s$.\n",
    "\n",
    "1. Write the average cruising speed in terms of $v_{max}$, $a$, $b$ and $s$. Use that expression to write a function $v_c(s)$ giving the average cruising speed in terms of the stop spacing. How much time is lost by one stop? Let the time lost to a stop be $t_s$ for the rest of your calculations.\n",
    "\n",
    "2. Use $v_c(s)$ to write an expression for $T(s;l)$, the door-to-door travel time for a trip of length $l$ without transfers, as a function of $s$. (Note: when we write $f(x;\\alpha)$, it means that $f$ is a function of $x$ given the value of some fixed parameter $\\alpha$.)\n",
    "\n",
    "3. Choose $s$ to minimize $T(s;l)$. Use that to write a function $T^*(l)=T(s^*;l)$ that gives the lowest possible door-to-door trip time (without transfers). Use that answer to write a function $\\hat{v}(l)$ giving the fastest possible door-to-door speed for a trip of length $l$.\n",
    "\n",
    "4. Now suppose you're offering hierarchical service with an express spacing $s_e$. Write $T_e(s;l)$ as a function in terms of $s_e$, given $l$, where $T_e(s_e;l)$ is the door-to-door trip time for a trip with transfers given that people take a feeder to the nearest express stop and that the feeder stop spacings are optimized. \n",
    "\n",
    "5. Now we need to choose the optimal $s_e$...the value that minimizes $T_e(s;l)$. You'll notice that, inconveniently, $T_e(s;l)$ is not a pure EOQ: it has *three* different powers of $s_e$. That means you can't write a closed-form solution for $s_e$; you can only solve it numerically. But looking at your expression for $T_e$, there's one term that isn't very impactful if you assume: (i) $s_e$ will be small relative to $l$ and (2) $v_{max}$ is pretty fast. Which term is it? \n",
    "\n",
    "6. To get an *approximate* closed-form solution for $s_e^*$, write a new function $T_e^-(s_e;l)$ that leaves out the insignificant term. Then find a closed-form solution for the value of $s_e$ that minimizes $T_e^-(s_e;l)$. We'll call that $s_e^*$ even though it's not *really* the minimizing value. Plug that value back into $T_e(s;l)$ to get a function $T_e^*(l)=T_e(s_e^*;l)$. Then calculate $\\hat{v}_e(l)$, the (approximate) fastest possible speed for a trip of length $l$ using a hierarchy.\n",
    "\n",
    "7. Given that $l=20$, $v_s=0.5$, $a=1$, $b=2$, $v=5$, plot $T_e(s;l)$ and $T_e^-(s;l)$ in Desmos. Print out your plot and include it with your work. How different are the values of $s_e$ that minimize each function? How different are the absolute minimum of $T_e$ (the true minimum value) from the value of $T_e$ at the value of $s_e$ where $T_e^-$ (the door-to-door travel time using the approximate solution) is minimized? This gives you an idea of how good the approximation is. You can click on a function in Demsos to see its minimum.\n",
    "\n",
    "8. Now plot $\\hat{v}_e^*(l)$ and $v^*(l)$ on the same Desmos graph. Where do they intersect? What's the significance of this intercept?\n",
    "\n",
    "\n",
    "### EOQ Formulas\n",
    "\n",
    "This should help.\n",
    "\n",
    "$$\n",
    "z = Ax^\\alpha + Bx^{-\\beta}\n",
    "$$\n",
    "\n",
    "$$\n",
    "x^* = \\left( \\frac{B\\beta}{A\\alpha}\\right)^{\\frac{1}{\\alpha + \\beta}}\n",
    "$$\n",
    "\n",
    "$$\n",
    "z^* = A^{\\frac{\\beta}{\\alpha+\\beta}} B^{\\frac{\\alpha}{\\alpha+\\beta}}\n",
    "\\left[ \n",
    "\\left( \\frac{\\beta}{\\alpha} \\right) ^{\\frac{\\alpha}{\\alpha+\\beta}} + \\left(\\frac{\\alpha}{\\beta}\\right)^{\\frac{\\beta}{\\alpha+\\beta}}\n",
    "\\right]\n",
    "$$\n"
   ]
  }
 ],
 "metadata": {
  "anaconda-cloud": {},
  "kernelspec": {
   "display_name": "Python [conda root]",
   "language": "python",
   "name": "conda-root-py"
  },
  "language_info": {
   "codemirror_mode": {
    "name": "ipython",
    "version": 2
   },
   "file_extension": ".py",
   "mimetype": "text/x-python",
   "name": "python",
   "nbconvert_exporter": "python",
   "pygments_lexer": "ipython2",
   "version": "2.7.12"
  }
 },
 "nbformat": 4,
 "nbformat_minor": 2
}
