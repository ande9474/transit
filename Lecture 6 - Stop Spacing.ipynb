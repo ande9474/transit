{
 "cells": [
  {
   "cell_type": "markdown",
   "metadata": {},
   "source": [
    "# Stop spacings"
   ]
  },
  {
   "cell_type": "markdown",
   "metadata": {},
   "source": [
    "In previous lectures, we've toyed with design variables somewhat as though we were playing a computer game: we could choose whatever value we wanted. In reality, these choices involve grand political processes and sometimes involve long-term sunk costs, which may make it uneconomical to change suboptimal designs the agency inherits.\n",
    "\n",
    "But **stop spacing**---the distance between stops---is one of the easier transit design characteristics to change, at least for buses. While the choice is still influenced by politics, in many cases an agency can eliminate or add stops more easily than it can make a route or fare change. Also, eliminating stops can actually save money, so you don't have to come up with new funds to do it. For these reasons, improving stop spacing can be a sort of \"low-hanging fruit\" for a transit agency. The exception of course are rail transit lines that have expensive stations."
   ]
  },
  {
   "cell_type": "markdown",
   "metadata": {},
   "source": [
    "## Bus stop consolidation\n",
    "\n",
    "A distinguishing feature of American bus service is that bus stop stops are *very close together.* [Here are the stops for the 7-Haight Noriega](http://www.nextmuni.com/googleMap/?a=sf-muni&r=9) in San Francisco.\n",
    "\n",
    "<img src='./img/7-line.png' width='750px'/>"
   ]
  },
  {
   "cell_type": "markdown",
   "metadata": {},
   "source": [
    "Downtown, there are stops every block. Outside downtown, there are stops every two blocks *regardless of block length*, so stops in the Outer Sunset are much closer together than those in Haight-Ashbury. \n",
    "\n",
    "Many transit consultants and researchers think that the optimal stop spacing is around .25 miles [400 m]. Vukan Vuchich (author of the most popular transit textbook) says \"*Stop spacings should be such that, on the average, buses stop at distances of 400 m [.25 miles] to 600 m [.37 miles], in exceptional cases somewhat closer, bun in no case below 300 m.*\" The transit consultant Jarrett Walker (author of the blog and book Human Transit) also supports a 400 m standard and says it's standard in Europe and Australia. According to Walker, 400 m is good because it's the distance lots of people are willing to walk; after 400 m, ridership falls off very sharply. Thus, if you put your stops closer together than 400 m, you're providing \"duplicate coverage,\" as he puts it in this diagram.\n",
    "\n",
    "<a href=\"http://humantransit.org/2010/11/san-francisco-a-rational-stop-spacing-plan.html\"><img src=\"img/spacings.jpg\" /></a>\n",
    "\n",
    "In recent years there have been moves toward \"stop consolidation,\" removing stops in order to speed up bus service. Here is an enlightening presentation by a Muni manager on that effort: [\"Transit Stops & Stations: Stop spacing, location, & infrastructure.\"](http://nacto.org/wp-content/uploads/2016/05/1-7_Tanner-Transit-Stop-Spacing-Location-and-Infrastructure_2015.pdf). Maryland Transit Administration (Baltimore's provider) analyzed its stops and found average spacing of [*less than 500 ft*](https://mta.maryland.gov/sites/default/files/Bus_Stop_Optimization_Policy_Pilot.pdf) (page 2)! But this often runs into political obstacles.  For example, consider this news story: [Cafe Owner, [Supervisor] Breed Sway Muni to Keep Two 21-Hayes Stops within a Block](http://sf.streetsblog.org/2015/05/01/cafe-owner-breed-sway-muni-to-keep-two-21-hayes-stops-within-a-block/).\n",
    "\n",
    "<img src=\"./img/spacing-table.png\" width=\"75%\"/>"
   ]
  },
  {
   "cell_type": "markdown",
   "metadata": {},
   "source": [
    "To make sense of these effects, now we're going to look at a couple of models."
   ]
  },
  {
   "cell_type": "markdown",
   "metadata": {},
   "source": [
    "## Model 1a: The relationship between trip length and door-to-door speed\n",
    "\n",
    "Every model is unrealistic. They exist to tell stories, to make points memorably so you can remember important principles and communicate them evocatively. Now we are going to consider a model whose lessons are:\n",
    "\n",
    "+ **The need to stop places a lower bound on door-to-door travel times.**\n",
    "+ **The longer trips are, the faster door-to-door service you can provide.**\n",
    "\n",
    "To that end, we are going to consider a model with assumptions very favorable to transit. These assumptions are:\n",
    "\n",
    "+ No maximum speed. Speed is only limited by acceleration and braking potential.\n",
    "+ No boarding and alighting time.\n",
    "+ Demand is extremeley high. Since optimal frequency scales with ridership, we wind up providing such high frequency that wait time at the stop is negligible. Thus, we can ignore wait time and agency cost when we choose stop spacings and whether to have a hierachy of service.\n",
    "\n",
    "The parameters of the model are:\n",
    "\n",
    "+ $a$ acceleration rate \n",
    "+ $b$ braking rate \n",
    "+ $s$ stop spacing \n",
    "+ $\\hat{v}$ door-to-door speed\n",
    "+ $\\bar{v}$ average speed of the bus, counting stops\n",
    "+ $l$ average trip length\n",
    "\n",
    "What we are interested in is the question: what's the fastest door-to-door speed we can provide, given trip lengths $l$?"
   ]
  },
  {
   "cell_type": "markdown",
   "metadata": {},
   "source": [
    "### Finding $\\bar{v}$ in terms of $s$\n",
    "\n",
    "Since there is no wait time or boarding/alighting time in this model, the door-to-door speed will depend on the speed walking and the speed riding. The walking speed is given, so our first task is to figure out how fast the bus goes on average.\n",
    "\n",
    "The bus' motion works like this: Between stops, the bus accelerates at rate $a$ for a while from a speed of zero. Then it brakes at rate $b$ until $v=0$ again at the next stop. So the path of speed as the bus goes between two stops looks like this:"
   ]
  },
  {
   "cell_type": "code",
   "execution_count": 31,
   "metadata": {
    "collapsed": false
   },
   "outputs": [
    {
     "data": {
      "image/png": "[encoded data removed]",
      "text/plain": [
       "<matplotlib.figure.Figure at 0x10e5793d0>"
      ]
     },
     "metadata": {},
     "output_type": "display_data"
    }
   ],
   "source": [
    "import numpy as np; import matplotlib.pyplot as plt;\n",
    "T = 5; a = 0.5; b = 0.75;\n",
    "plt.plot(np.linspace(0,T*b/(a+b)),np.linspace(0,T*b/(a+b))*a,label=\"acceleration phase\")\n",
    "plt.plot(np.linspace(T*b/(a+b),T),T*b/(a+b)*a - np.linspace(0,T*a/(a+b))*b,label=\"braking phase\")\n",
    "plt.ylabel(r'v'); plt.xlabel(r't');plt.legend();plt.show()"
   ]
  },
  {
   "cell_type": "markdown",
   "metadata": {},
   "source": [
    "The area of the triangle above must equal the stop spacing, $s$. The base of the triangle, $T$, is the time between stops. Since the bus spends no time stopped, the average speed $\\bar{v}$ is equal to the area of the triangle divided by its base---i.e., the stop spacing divided by the time between stops."
   ]
  },
  {
   "cell_type": "markdown",
   "metadata": {},
   "source": [
    "To find $\\bar{v}$, the first thing to note is that, if $t_a$ is the amount of time the bus spends accelerating and $T$ is the time between stops, then \n",
    "\n",
    "$$\n",
    "t_a a = (T-t_a) b,\n",
    "$$\n",
    "\n",
    "which implies\n",
    "\n",
    "$$\n",
    "\\frac{t_a}{T} = \\frac{b}{a+b}.\n",
    "$$\n",
    "\n",
    "That's to say **$b/(a+b)$ is the fraction of the time the bus spends accelerating,** and so\n",
    "\n",
    "$$T\\frac{b}{a+b}$$ \n",
    "\n",
    "is the time the bus spends accelerating. It follows that the *distance*, $s_a$, that the bus takes to accelerate is \n",
    "\n",
    "$$\n",
    "s_a := \\int_0^{Tb/(a+b)} (at) dt = T^2 \\frac{a^2b}{2(a+b)^2},\n",
    "$$\n",
    "where $at$ is the speed at time $t$. (Since the bus starts from speed $0$.) Meanwhile, the distance the bus requires to brake is \n",
    "\n",
    "$$\n",
    "s_b := \\int_0^{Ta/(a+b)} (bt) dt = T^2 \\frac{b^2a}{2(a+b)^2}\n",
    "$$\n",
    "by the same logic.\n",
    "\n",
    "Putting it all together, we get an expression for the total distance between stops in terms of $T$.\n",
    "\n",
    "$$\n",
    "s = s_a + s_b = \\frac{T^2}{2}\\frac{ba^2+ab^2}{(a+b)}.\n",
    "$$\n",
    "\n",
    "To make things easier on ourselves, we're going to lump some constants together in the variable\n",
    "\n",
    "$$\n",
    "\\phi:= \\frac{ba^2+ab^2}{2(a+b)},\n",
    "$$\n",
    "\n",
    "so\n",
    "\n",
    "$$\n",
    " s = T^2\\phi\n",
    "$$\n",
    "\n",
    "and so\n",
    "\n",
    "$$\n",
    "T = \\sqrt{ \\frac{s}{\\phi}}.\n",
    "$$\n",
    "\n",
    "Since $\\bar{v}=s/T$ we have\n",
    "\n",
    "$$\n",
    "\\bar{v} = \\frac{s}{T}= \\frac{s}{\\sqrt{s/\\phi}} = \\sqrt{\\phi s}.\n",
    "$$\n",
    "\n",
    "The point is that speed rises as stop spacing increases."
   ]
  },
  {
   "cell_type": "markdown",
   "metadata": {},
   "source": [
    "### Finding walk time in terms of $s$\n",
    "\n",
    "As we saw above, the upside of longer stop spacings is that the bus goes faster. The downside, of course, is that riders have to walk farther to get to a stop. According to Google Maps, people walk through San Francisco at about 2.8 mi/hr (4.5 km/hr), meaning it takes about 20 minutes to walk a mile (about 13.3 minutes to walk a kilometer).\n",
    "\n",
    "If we assume that destinations and origins are evenly distributed along our route, how long does it take people to walk to the stop on average? Well, as an approximation, we'll say that people walk to the nearest stop. (Note this isn't entirely realistic, as you might walk a little farther to get to a stop in the direction you're traveling). If people walk to the nearest stop, then the longest walking journey is $s/2$ (the guy who starts out exactly half way between stops. The shortest walking journey is $0$ (the guy who starts out right at the stop). So the average distance traveled to get to the stop (assuming origins are evenly distributed), is $s/4$ (the average of $0$ and $s/2$). It follows that if people walk at rate $v_s$, then the average time spent walking to the stop is \n",
    "\n",
    "$$\\frac{s}{4v_s}.$$\n",
    "\n",
    "And since people have to walk *from* the stop, too, then the total walk time is \n",
    "\n",
    "$$\n",
    "\\frac{s}{2v_s}.\n",
    "$$"
   ]
  },
  {
   "cell_type": "markdown",
   "metadata": {},
   "source": [
    "### Finding the fastest possible door-to-door travel speed, $\\hat{v}$\n",
    "\n",
    "Now we know how much time is spent walking and how fast the bus goes. Both turned out to be functions of $s$. So if we want to find the fastest possible door-to-door travel speed, then we need to choose the $s$ that minimizes it. Door-to-door travel time is\n",
    "\n",
    "$$\n",
    "T_t = \\text{walk time} + \\text{ride time} = \\frac{s}{2v_s} + \\frac{l}{\\bar{v}},\n",
    "$$\n",
    "which, given our definition of $v$ is \n",
    "$$\n",
    "T_t = \\frac{s}{2v_s} + \\frac{l}{\\phi^{1/2}}s^{-1/2}.\n",
    "$$\n",
    "\n",
    "Recall our EOQ formula. If $z=Ax^\\alpha + Bx^{-\\beta}$, then once we choose $x^*$ to minimize $z$ we get\n",
    "\n",
    "$$\n",
    "z^* = A^{\\frac{\\beta}{\\alpha+\\beta}}B^{\\frac{\\alpha}{\\alpha+\\beta}}\\left[ \\left(\\frac{\\beta}{\\alpha}\\right)^{\\frac{\\alpha}{\\beta+\\alpha}}  + \\left(\\frac{\\alpha}{\\beta}\\right)^{\\frac{\\beta}{\\beta+\\alpha}}\\right].\n",
    "$$\n",
    "\n",
    "For our problem, $A=1/2v_s$, $B=l/\\phi^{1/2}$, $\\alpha=1$,$\\beta=1/2$. So when we plug these parameters into the formula we get\n",
    "\n",
    "$$\n",
    "T_t^* = \\left(\\frac{1}{2v_s}\\right)^{1/3} \\left( \\frac{l}{\\phi^{1/2}} \\right)^{2/3} \\bigg[ (2)^{1/3} + (1/2)^{2/3} \\bigg], \n",
    "$$\n",
    "\n",
    "which when we simplify becomes\n",
    "\n",
    "$$\n",
    "T_t^* = \\frac{3}{2}\\left(\\frac{1}{v_s\\phi}\\right)^{1/3}l^{2/3}.\n",
    "$$\n",
    "\n",
    "Now, wrapping up, we plug in this to our identity for door-to-door travel speed and get\n",
    "\n",
    "$$\n",
    "\\hat{v}(l) = \\frac{l}{T_t^*} = \\frac{2}{3}\\bigg(l\\phi v_s\\bigg)^{1/3},\n",
    "$$\n",
    "\n",
    "which is $\\hat{v}$ for a given trip length. Here is that function plotted."
   ]
  },
  {
   "cell_type": "markdown",
   "metadata": {},
   "source": [
    "### Take-home lessons\n",
    "\n",
    "The important lesson is that $\\hat{v}$ rises with the $1/3$ power of $l$. So the longer trips are, the faster the door-to-door speed is. In other words, travel time scales lower than linearly with speed. The reason was that when trips are longer, stops could be spaced further apart, which let the bus go faster. \n",
    "\n",
    "Also, in spite of the fact there was no upper bound on travel speed, the fact the vehicle needed to speed up and slow down kept us from providing an infinite speed."
   ]
  },
  {
   "cell_type": "markdown",
   "metadata": {},
   "source": [
    "## Model 1b: An extension with hierarchies\n",
    "\n",
    "Now we are look at a new model that has Model 1a nested inside of it. In this model, there is a hierarchy of service. There is an \"express\" service with far-apart stops that goes quickly, and a slower \"feeder\" service with close-together stops that exists to get people to and from the express stops. Here is a diagram:\n",
    "\n",
    "<img src=\"./img/spacing.png\" width=\"50%\"/>"
   ]
  },
  {
   "cell_type": "markdown",
   "metadata": {},
   "source": [
    "Our task now is to choose the express stop spacing, $s_e$, in order to maximize the door-to-door travel speed $\\hat{v}(l)$. The key insight is this: this model is exactly the same as the one above, but rather than a \"walk speed\" $v_s$ we have an \"access speed\" (the speed of the feeder) that is equal to $\\hat{v}(s_e/2)$. And just as above people walked on average a distance $v_w$, here they ride the feeder a distance $s_e/2$. Therefore, door-to-door travel time is now\n",
    "\n",
    "$$\n",
    "T_t = \\frac{s_e}{2\\hat{v}(s_e/2)} + \\frac{l}{\\phi^{1/2}}s_e^{-1/2},\n",
    "$$\n",
    "\n",
    "where the first term is time spent on the feeder and the second is time spent on the express service.\n",
    "\n",
    "When we plug $\\hat{v}(s_e/2)$ into our expression for travel time, we get\n",
    "\n",
    "$$\n",
    "T_t = \\frac{1}{2\\cdot \\frac{2}{3}(v_w \\phi )^{1/3}}s_e^{2/3} + \\frac{l}{\\phi^{1/2}}s_e^{-1/2}=  \\frac{4}{3(v_w \\phi )^{1/3}}s_e^{2/3} + \\frac{l}{\\phi^{1/2}}s_e^{-1/2}.\n",
    "$$\n",
    "\n",
    "This is another EOQ formula, only this time $\\beta=2/3$ whereas in Model 1b $\\beta=1/2$. If we use our EOQ formula to minimize this expression, we get\n",
    "\n",
    "$$\n",
    "T_t^* = k \\cdot \\left(\\frac{1}{v_s} \\right)^{1/7}\\left( \\frac{1}{\\phi} \\right)^{3/7} l^{4/7},\n",
    "$$\n",
    "\n",
    "where $k$ are a bunch of constants arranged in a way that doesn't really matter to us.\n",
    "\n",
    "To finish, we take the ratio $\\hat{v}_e =l/T_t$ to find\n",
    "\n",
    "$$\n",
    "\\hat{v}_e(l) = k v_s^{1/7} \\phi^{3/7}l^{3/7}.\n",
    "$$"
   ]
  },
  {
   "cell_type": "markdown",
   "metadata": {},
   "source": [
    "### Comparing transfers vs. direct service\n",
    "\n",
    "The point of building the model with transfers is to see whether adding transfers helps speed up people's trips. Without crunching a bunch of numbers, we can compare the general forms of $\\hat{v}(l)$ (without transfers) and $\\hat{v}_e(l)$ (with transfers).\n",
    "\n",
    "$$\n",
    "\\hat{v}(l) = A l^{2/3}\n",
    "$$\n",
    "\n",
    "$$\n",
    "\\hat{v}_e(l) = B l^{4/7}\n",
    "$$\n",
    "\n",
    "Where $A$ and $B$ stand for all the other constants multiplied by $l$. Note the different powers of $l$ in each expression. Because they have different powers, no matter what $A$ and $B$ are, when we compare the two functions the plot will look like this"
   ]
  },
  {
   "cell_type": "code",
   "execution_count": 20,
   "metadata": {
    "collapsed": false
   },
   "outputs": [
    {
     "data": {
      "image/png": "[encoded data removed]",
      "text/plain": [
       "<matplotlib.figure.Figure at 0x10e755090>"
      ]
     },
     "metadata": {},
     "output_type": "display_data"
    }
   ],
   "source": [
    "import numpy as np; import matplotlib.pyplot as plt;\n",
    "plt.rc('text', usetex=True)\n",
    "l = np.linspace(0,2,100)\n",
    "A = 1\n",
    "B = 1\n",
    "vhat = A* l**(1./3.)\n",
    "vhat_e = B * l **(3./7.)\n",
    "plt.plot(l, vhat, label= r\"$\\hat{v}(l)$\")\n",
    "plt.plot(l,vhat_e,label=r\"\\hat{v}_e(l)\")\n",
    "plt.xlabel(r\"l\");plt.ylabel(r\"v\");\n",
    "plt.xticks([0]);plt.yticks([0]);\n",
    "plt.legend()\n",
    "plt.show()"
   ]
  },
  {
   "cell_type": "markdown",
   "metadata": {},
   "source": [
    "That is, $\\hat{v}(l)$ will be higher for very low values of $l$, while $\\hat{v}_e(l)$ will be higher for high values of $l$. At some point, they will intersect. No matter what $A$ and $B$ are these facts will hold. (Try it in Desmos if you don't believe me.)"
   ]
  }
 ],
 "metadata": {
  "anaconda-cloud": {},
  "kernelspec": {
   "display_name": "Python [conda root]",
   "language": "python",
   "name": "conda-root-py"
  },
  "language_info": {
   "codemirror_mode": {
    "name": "ipython",
    "version": 2
   },
   "file_extension": ".py",
   "mimetype": "text/x-python",
   "name": "python",
   "nbconvert_exporter": "python",
   "pygments_lexer": "ipython2",
   "version": "2.7.12"
  }
 },
 "nbformat": 4,
 "nbformat_minor": 2
}
