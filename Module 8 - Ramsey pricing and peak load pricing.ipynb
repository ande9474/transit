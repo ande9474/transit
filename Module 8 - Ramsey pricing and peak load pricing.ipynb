{
 "cells": [
  {
   "cell_type": "markdown",
   "metadata": {},
   "source": [
    "# The problem: coming up with money to cover average costs\n",
    "\n",
    "Prices, systems of pricing and technologies of prices vary among transit systems as much as stop spacings and other design features we've looked at.  On the New York City subway, the same low fare takes you from Coney Island to Harlem or just a few blocks, whereas BART charges a unique (and high) price for almost every OD pair; and The London Underground has something in-between: a series of zones inside of which the fare is uniform.\n",
    "\n",
    "Even though pricing varies so much, most people think of pricing as an afterthought. It's almost as though the built is designed with no cost in mind, and then when the fun part is over we turn to pricing as some way to pay for it. But actually pricing is an essential aspect of the transit system, and it merits consideration from the beginning. It affects how many people are willing to ride, and where and at what time they ride, as much as the speed and headways.\n",
    "\n",
    "$\\newcommand{\\pder}[2]{\\frac{\\partial#1}{\\partial#2}}$\n",
    "Pricing transit is different than pricing, say, corn, because as we've seen it's subject to enormous economies of scale. There are physical economies of scale, but also user cost economies of scale like the way headway declines. That makes it subject to different rules than other commodities more commonly provided by markets. That's important to note, because it relates to a common argument: transit opponents like to point that transit is subsidized, and they conclude it shouldn't be provided at all. The idea is that if customers aren't willing to cover the cost of the service then it's not efficient for the service to be provided---at least not in the amount the government provides. But this isn't necessarily true. In reality, since transit has large economies of scale, its pricing presents two problems: solvency and efficiency."
   ]
  },
  {
   "cell_type": "markdown",
   "metadata": {},
   "source": [
    "## Solvency\n",
    "\n",
    "It might be the case that there is no single price you can charge that will let a transit service break even. But this doesn't necessarily mean that the service shouldn't be provided. Consider two examples:\n",
    "\n",
    "<img src=\"./img/prices-worthwhile.png\" width=\"40%\"/>\n",
    "\n",
    "Here, the demand curve $p(q)$ never intersects the average cost curve $ac(q)$. That means there is no price we can charge that will be as high as the average cost per rider at that price. In the figure, I've chosen the price that makes the most money possible, and it's still not high enough to cover costs. But it's still socially beneficial to operate the service with a small subsidy. To see why, note that at price $P$, the sum of consumer surplus and total revenue is given by the trapezoid $ABCO$. This area is bigger than total cost at price $P$, which is equal to the area of the rectangle $DECO$. Therefore, the service is socially efficient to provide (its benefits outweigh its costs for certain prices), but to provide it might require some kind of subsidy.\n",
    "\n",
    "Just so you don't get the wrong idea, here is an example of a service whose demand is so low, relative to costs, that it is never worthwhile to provide. Even when price equals marginal cost, the service doesn't satisfy consumers enough to cover its costs. An example would be a bad movie: once it's created, the cost of someone streaming a bad movie online is roughly zero (unless you count the psychic damage to the viewer). But that doesn't mean the government should subsidize bad movies and offer them free online.\n",
    "\n",
    "<img src=\"./img/prices-not-worthwhile.png\" width=\"45%\"/>\n"
   ]
  },
  {
   "cell_type": "markdown",
   "metadata": {},
   "source": [
    "## Efficiency\n",
    "\n",
    "The solvency argument is pretty cut-and-dry: you know the service should exist, but it's impossible for the service to pay for itself (at least without some fancy pricing techniques). Solvency is a \"to be or not to be\" type problem, a dichotomy. But less clearly, it might be that by charging users a price that breaks even, you're sacrificing economic welfare and ridership unecessarily. Whenever price is above average cost, there are foregone opportunities to service riders, as shown in the plot below:\n",
    "\n",
    "<img src=\"./img/prices-efficiency.png\" width=\"50%\"/>\n",
    "\n",
    "In this case, if you could pay for the fixed costs of the service somehow, then economic welfare would be improved."
   ]
  },
  {
   "cell_type": "markdown",
   "metadata": {},
   "source": [
    "# Strategies to come up with extra money\n",
    "\n",
    "One way to come up with extra money is taxes. We raise taxes on society at large and use them to invest in things with low marginal costs. Examples include uncongested roads and parks. Especially in a society like ours where a small fraction of people make enormous amounts of money or hold incredible sums of wealth, this isn't too bad of a way to go. And in the US, as it happens, transit is extremely heavily subsidized. But taxes have downsides: they encourage people to change their behavior to avoid taxes and add to costs in other industries. More practically, transportation engineers cannot magically raise taxes whenever they want. So, in the end, you have to work with a budget. What we are going to learn are different techniques to raise more revenues from your customers by pricing intelligently.\n",
    "\n",
    "One way to come up with money in an efficient manner is to charge different prices to different people. This is called *price discrimination*. There are three types of price discrimination as applied to transit.\n",
    "\n",
    "1. First-degree. Selling at different prices to different riders. Uber does this but it would be hard for a transit agency to do it.\n",
    "2. Second-degree.  Bulk discounts and travel passes.\n",
    "3. Third-degree. Charging different prices on different routes and times-of-day. Basically, dividing customers into groups, each with its own demand curve.\n",
    "\n",
    "In this module, we're going to cover third-degree price discrimination. First-degree price discrimination isn't too practical for transit. Second-degree price discrimination will be covered in another module."
   ]
  },
  {
   "cell_type": "markdown",
   "metadata": {},
   "source": [
    "## Ramsey pricing\n",
    "\n",
    "Ramsey pricing is a type of third-degree price discrimination in which we charge different prices to different customer groups. For example, we might charge passengers going in one direction more than passengers going in the other direction. Or we might charge seniors and younger folks differently. It is called Ramsey pricing because the general principles were first put forth by Frank Ramsey, whom Wikipedia describes, intiguingly, as \"a British philosopher, mathematician and economist who died at the age of 26.\" I think he looks like a philosopher/mathematician/economist. In any case, he was the kind of person you makes you feel like a loser if you're older than 26.\n",
    "\n",
    "<img src=\"https://upload.wikimedia.org/wikipedia/en/thumb/f/f3/Frank_Plumpton_Ramsey.JPG/200px-Frank_Plumpton_Ramsey.JPG\"/>"
   ]
  },
  {
   "cell_type": "markdown",
   "metadata": {},
   "source": [
    "In this section we'll look at a model of a transit provider that provides service on a bunch of routes. We're going to make some assumptions that are not actually necessary to for Ramsey pricing to \"work,\" but they will be convenient for our analysis.\n",
    "\n",
    "The agency has fixed costs of $F$ and marginal cost on each route $i$ of $c_i$. Demand on each route is given by the  function\n",
    "\n",
    "$$\n",
    "q_i(p_i) = \\gamma p_i^{-\\alpha_i}.\n",
    "\\newcommand{\\L}{\\mathcal{L}}\n",
    "$$\n",
    "\n",
    "\n",
    "\n",
    "So, given these assumptions, our goal is to maximize total social surplus by choosing the correct prices on each route $p_1$, $p_2$, etc; that is, the prices on each route. Our measure of total social surplus is\n",
    "\n",
    "$$\n",
    "TSS = CS + TR - TC,\n",
    "$$\n",
    "\n",
    "where $TR=\\Sigma p_iq_i$ and $TC=F+\\Sigma q_ic_i$. So the expresion we want to minimize is\n",
    "\n",
    "$$\n",
    "\\L = CS + TR - TC + \\lambda \\cdot (TR - TC),\n",
    "$$\n",
    "\n",
    "which we can also write\n",
    "\n",
    "$$\n",
    "\\L = CS + (1+\\lambda)(TR-TC).\n",
    "$$\n",
    "\n",
    "So effectively our goal is to maximize consumer surplus subject to the break-even constraint."
   ]
  },
  {
   "cell_type": "markdown",
   "metadata": {},
   "source": [
    "To get the gist of the solution, we'll do everything in terms of route 1. We differentiate with respect to $p_1$ to get\n",
    "$$\n",
    "\\pder{\\L}{p_1} = -q_1 + (1+\\lambda)\\left[ \\left(q_1+ \\pder{q_1}{p_1}p_1  \\right) - c_1\\frac{\\partial q_1}{\\partial p_1} \\right] = 0,\n",
    "$$\n",
    "\n",
    "simplifying gives\n",
    "\n",
    "\\begin{align}\n",
    "\\pder{\\L}{p_1} = q_1\\lambda + (1+\\lambda)\\cdot \\frac{\\partial q_1}{\\partial p_1} \\cdot \\bigg( p_1   - c_1 \\bigg) = 0\\\\\n",
    "\\pder{q_1}{p_1}\\cdot \\bigg(p_1-c_1\\bigg) = -\\frac{\\lambda}{1+\\lambda} q_1.\n",
    "\\end{align}\n",
    "\n",
    "From now on, because it's a headache to write $1/(1+\\lambda)$ over and over, we'll define\n",
    "\n",
    "$$\n",
    "\\phi := \\frac{\\lambda}{1+\\lambda}.\n",
    "$$"
   ]
  },
  {
   "cell_type": "markdown",
   "metadata": {},
   "source": [
    "This isn't too informative, though. So divide both sides by $q_1$ and $p_1$, then use the definition of own-price elasticity (the negative proportionate change in demand from a given change in price)\n",
    "\n",
    "$$\n",
    "\\varepsilon_i = -\\pder{q_i/q_i}{p_i/p_i}\n",
    "$$\n",
    "(don't forget the negative) which gives\n",
    "\n",
    "$$\n",
    "\\frac{p_1-c_1}{p_1} =  \\frac{\\phi}{\\varepsilon_1}.\n",
    "$$\n",
    "\n",
    "This is a little more informative. The left-hand side is an index of how much we're marking up price over marginal cost; it's called the [The Lerner Index](https://en.wikipedia.org/wiki/Lerner_index). It tells you what percentage of the price charged is \"operating profit.\" Like if you're pay a \\$5 fare and the Lerner index is $.2$, then \\$1 of what you pay is above marginal cost; it's your contribution to the fixed costs of the system.\n",
    "\n",
    "As for the right-hand side, *the term $\\phi$ is a constant for every route $i$.* So if we compare the markup for two different routes $i$ and $j$ we have\n",
    "\n",
    "$$\n",
    "\\frac{(p_i - c_i)/p_i}{(p_j-c_j)/p_j} = \\frac{\\varepsilon_j}{\\varepsilon_i}.\n",
    "$$\n",
    "\n",
    "So the take-home lesson is: **The *less* elastic demand is, the higher the markup.** Or, conversely, the more elastic demand is, the lower the markup. The basic idea is that you want to gouge the riders who have the lowest propensity to stop riding."
   ]
  },
  {
   "cell_type": "markdown",
   "metadata": {},
   "source": [
    "There is also another informative way to write same equation. Let $\\Delta q_1$ be the shift in demand from marginal cost levels (the reduction in quantity sold caused by having to meet the budget constraint). If we assume the derivative of the demand curve doesn't change too much (which is true for small changes), it's true that $\\Delta q_1 \\approx \\pder{q_1}{p_1}\\left(p_1 - c_1\\right)$. So we can also write our rule like\n",
    "\n",
    "$$\n",
    "\\Delta q_1 \\approx -\\phi q_1\n",
    "$$\n",
    "\n",
    "or, dividing by $q_1$, giving\n",
    "\n",
    "$$\n",
    "\\frac{\\Delta q_1}{q_1} \\approx -\\phi.\n",
    "$$\n",
    "\n",
    "What this says is: **ridership on every route is reduced by the same proportion relative to the level it would have with marginal cost pricing**.  This is true regardless of our assumptions about constant marginal cost and the particular demand curve we've chosen."
   ]
  },
  {
   "cell_type": "markdown",
   "metadata": {},
   "source": [
    "Now that we've made these theoretical points, lets return to solving for the optimal prices. It so happens that, for the demand curve we've chosen, $\\varepsilon_i = \\alpha_i$. You can see this for yourself by plugging our demand function $q_i(p_i) = \\gamma_i p_i^{-\\alpha_i}$. **But this isn't always true!** I chose this demand function so that $\\varepsilon_i$ would be a constant for every route. If we had a linear demand curve, then elasticity of demand would vary as price changed. Because of our demand function, we can write our Lerner indices for each route in terms of constants given at the outset of the problem:\n",
    "\n",
    "$$\n",
    "\\frac{p_i-c_i}{p_i} =  \\frac{\\phi}{\\alpha_i}.\n",
    "$$\n",
    "\n",
    "Then we can write $p_i$ in terms of $\\alpha_i$ and $\\phi$.\n",
    "\n",
    "$$\n",
    "p_i = \\frac{c_i}{1-\\frac{\\phi}{\\alpha_i}}=\\frac{c_i\\alpha_i}{\\alpha_i-\\phi}.\n",
    "$$"
   ]
  },
  {
   "cell_type": "markdown",
   "metadata": {},
   "source": [
    "Now we have a single unknown: $\\phi$ (which is determined by $\\lambda$). If we knew $\\phi$, then we could solve for every optimal price, and then we could find out what ridership on every route would be. The way to determine $\\phi$ (and hence $\\lambda$) is to write a function $p_i(\\phi)$ and then plug that into the budget constraint $TR-TC=0$. First, lets do a convenient simplification of the budget constraint:\n",
    "\n",
    "$$\n",
    "TR - TC = \\bigg(\\sum p_i\\cdot q_i \\bigg)- \\bigg(\\sum q_i\\cdot c_i + F\\bigg) = \\bigg(\\sum q_i \\cdot (p_i - c_i)\\bigg) - F = 0.\n",
    "$$\n",
    "\n",
    "Now replace the constants with their functions: $q_i(p_i)$ for $q_i$ and $p_i(\\phi)$ for $p_i$:\n",
    "\n",
    "$$\n",
    "\\sum q_i\\bigg(p_i(\\phi)\\bigg)\\cdot \\bigg(p_i(\\phi) - c_i\\bigg) - F = 0.\n",
    "$$\n",
    "\n",
    "We now have an equation in only one variable! You can solve this by plugging it into Desmos and then dragging a slider to choose the $\\phi$ (or $\\lambda$) that makes the expression equal 0. Or you can use Python or Excel Solver. I will give you a hint: if you are going to use Desmos to solve it by hand, set things up so that you drag around a $\\lambda$ slider. If you just do a $\\phi$ slider it will be hard to get it exactly right."
   ]
  },
  {
   "cell_type": "markdown",
   "metadata": {},
   "source": [
    "# Peak-load pricing\n",
    "\n",
    "Another problem you'll face is that the same capacity can be used at different types of day, when demands are different. How do you choose how much capacity to supply? How do you price the peak and off-peak? The principles of what is called \"peak load pricing\" were first laid out by the economist [Peter Steiner](https://en.wikipedia.org/wiki/Peter_O._Steiner). We'll unpack them in a simple model.\n",
    "\n",
    "Let $p_H(q)$ and $p_L(q)<p_H(q)$ be the peak and off-peak demand (high and low). Let $\\beta$ be the cost of capacity, and $c$ be the marginal operating cost of supplying a ride. So $\\beta$ might be the cost of the track, and $c$ would involve the costs of running a train. Let $K$ be the capacity you've supplied.\n",
    "\n",
    "\n",
    "Your job is to choose the optimal capacity to supply. Once the capacity is supplied you have to choose prices to ration demand to that capacity, and to pay for that capacity.\n",
    "\n",
    "There are basically two cases. The first case is where the peak demand is much higher than the off-peak demand and capacity isn't too expensive. Therefore, even if you make peak users pay for all the cost of capacity, off-peak users won't use all the capacity when they face price equal to marginal cost. This situation is shown below. If you charge $p_H = \\beta + c$, then the optimal capacity is given by the point where $p_H(K^*)=\\beta + c$. And even if you only charge $p_L = c$, off-peak users demand less than $K^*$ rides. This is called the \"firm peak\" case because the peak period is the same before and after pricing. It \"stays firm.\"\n",
    "\n",
    "<img src=\"./img/firm-peak.png\" width=\"50%\"/>\n",
    "\n",
    "The second case is where the peak and off-peak demands are pretty similar. In this case, if you charge the off-peak users only for their marginal costs, then off-peak demand will exceed capacity. An example is shown below. The way to find the optimal capacity in this case is to form an aggregated demand curve $p_{L+H}(q)=p_L(q)+p_H(q)$ and find where it intersects the line $\\beta + 2c$. Then you choose the price for each group that rations demand to $K^*$. For both groups, it will be greater than marginal cost, so both the peak and off-peak will contribute to capacity costs. We call this the \"shifting peak\" case because if you only charge the off-peak its marginal costs the off-peak will have more demand than the peak; that is, which period is the peak will \"shift.\"\n",
    "\n",
    "<img src=\"./img/shifting-peak.png\" width=\"50%\"/>\n"
   ]
  }
 ],
 "metadata": {
  "anaconda-cloud": {},
  "kernelspec": {
   "display_name": "Python [conda root]",
   "language": "python",
   "name": "conda-root-py"
  },
  "language_info": {
   "codemirror_mode": {
    "name": "ipython",
    "version": 2
   },
   "file_extension": ".py",
   "mimetype": "text/x-python",
   "name": "python",
   "nbconvert_exporter": "python",
   "pygments_lexer": "ipython2",
   "version": "2.7.12"
  }
 },
 "nbformat": 4,
 "nbformat_minor": 2
}
