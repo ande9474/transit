{
 "cells": [
  {
   "cell_type": "markdown",
   "metadata": {},
   "source": [
    "# Homework 3"
   ]
  },
  {
   "cell_type": "markdown",
   "metadata": {},
   "source": [
    "You're running a ferry service with the following demand curve\n",
    "\n",
    "$$\n",
    "q(p) = a - c_P P.\n",
    "$$\n",
    "\n",
    "Ferries are big can only be purchased in whole number increments. Each ferry carries up to $k$ passengers and costs $f_0$ dollars. There is a small marginal cost of $c$ per rider, because he/she takes up time boarding and the insurance premium on the boat (in case it sinks and everyone drowns horribly) is proportionate to ridership.\n",
    "\n",
    "Here are the parameter values. The rider numbers are unrealistically small because they are measured in hundreds.\n",
    "\n",
    "+ $a = 4.9$\n",
    "+ $c_P=0.6$\n",
    "+ $k=2.5$\n",
    "+ $f = 3$\n",
    "+ $c=0.2$\n",
    "\n",
    "\n",
    "1. Write an expression, $S(q) = CS(q) + TR(q)$. This is called \"gross consumer surplus\" and measures both consumer surplus as well as the revenue consumers pay. So total social surplus is $TSS=S(q)-TC(q)$. This will make your life a little easier later.\n",
    "2. Calculate the TSS-maximizing price, total social surplus and profit or loss if you have one ferry.\n",
    "3. Calculate the same quantities if you have two ferries.\n",
    "4. Spoiler alert: running two ferries loses money. So should the agency run two ferries and subsidize the service to maximize TSS? Write two reasons for running two and two reasons against. Align each reason with a bullet point. (Note you will not be graded on your command of English, as some of you are not from this country and, even worse, nearly all of you are engineers.)\n",
    "4.  Suppose that your transit agency spent all its extra money on a parking garage, so there's no subsidy available. If you chose price to break even with two ferries, what would be the price, ridership and total social surplus? (Note there are two $P/Q$ combinations that meet the two-ferry budget constraint; choose the better one.) \n",
    "6. Which is better for TSS: running *two* ferries at the break-even point or running *one* at the price you calculated in question 1? Which is better for riders?\n",
    "7. Suppose that instead of running big ferries you could run little motor boats at constant cost per passenger of $c=0.141$. Calculate the socially efficient price and quantity for this service.\n"
   ]
  }
 ],
 "metadata": {
  "anaconda-cloud": {},
  "kernelspec": {
   "display_name": "Python [conda root]",
   "language": "python",
   "name": "conda-root-py"
  },
  "language_info": {
   "codemirror_mode": {
    "name": "ipython",
    "version": 2
   },
   "file_extension": ".py",
   "mimetype": "text/x-python",
   "name": "python",
   "nbconvert_exporter": "python",
   "pygments_lexer": "ipython2",
   "version": "2.7.12"
  }
 },
 "nbformat": 4,
 "nbformat_minor": 2
}
