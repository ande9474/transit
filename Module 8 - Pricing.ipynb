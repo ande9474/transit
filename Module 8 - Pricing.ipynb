{
 "cells": [
  {
   "cell_type": "markdown",
   "metadata": {},
   "source": [
    "# Pricing\n",
    "\n",
    "Prices, systems of pricing and technologies of prices vary among transit systems as much as stop spacings and other design features we've looked at.  On the New York City subway, the same low fare takes you from Coney Island to Harlem or just a few blocks, whereas BART charges a unique (and high) price for almost every OD pair; and The London Underground has something in-between: a series of zones inside of which the fare is uniform.\n",
    "\n",
    "Even though pricing varies so much, most people think of pricing as an afterthought. It's almost as though the built is designed with no cost in mind, and then when the fun part is over we turn to pricing as some way to pay for it. But actually pricing is an essential aspect of the transit system, and it merits consideration from the beginning. It affects how many people are willing to ride, and where and at what time they ride, as much as the speed and headways. There exists, fortunately, a deep literature on pricing, even though it is largely ignored by American transit agencies. Hopefully one day you can change that. \n"
   ]
  },
  {
   "cell_type": "markdown",
   "metadata": {},
   "source": [
    "## Outline\n",
    "\n",
    "First-best pricing is based on a simple principal: price should equal marginal cost. But the physical and political facts of transit make that difficult to achieve. Among the complications we will look at are:\n",
    "\n",
    "+ Monopoly. Transit agencies are typically monopolists or near-monopolists. That means they can set their own prices.\n",
    "+ Economies-of-scale. As we've seen over and over, transit systems are subject to significant economies of scale.\n",
    "+ Externalities. Auto travel is severely underpriced in the US, inviting vast damage via pollution, congestion and crashes. Therefore, governments subsidize transit partly out of hope it will curb socially excessive driving.\n",
    "+ Multiple services in the same budget. A transit agency sells lots of different services---different routes and different modes---but once its subsidy gets exhausted it must cover what costs remain by pricing these services.\n",
    "+ Time-varying demand. Urban travel exhibits sharp peaks and valleys. In consequence, any system with a constant price will end up with either excess demand at the peaks or excess capacity in off-hours.\n",
    "\n"
   ]
  },
  {
   "cell_type": "markdown",
   "metadata": {},
   "source": [
    "## Short run and long-run costs"
   ]
  },
  {
   "cell_type": "markdown",
   "metadata": {},
   "source": [
    "## Peak-load pricing"
   ]
  }
 ],
 "metadata": {
  "anaconda-cloud": {},
  "kernelspec": {
   "display_name": "Python [conda root]",
   "language": "python",
   "name": "conda-root-py"
  },
  "language_info": {
   "codemirror_mode": {
    "name": "ipython",
    "version": 2
   },
   "file_extension": ".py",
   "mimetype": "text/x-python",
   "name": "python",
   "nbconvert_exporter": "python",
   "pygments_lexer": "ipython2",
   "version": "2.7.12"
  }
 },
 "nbformat": 4,
 "nbformat_minor": 2
}
