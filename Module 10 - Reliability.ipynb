{
 "cells": [
  {
   "cell_type": "markdown",
   "metadata": {},
   "source": [
    "# Reliability"
   ]
  },
  {
   "cell_type": "markdown",
   "metadata": {},
   "source": [
    "In earlier modules, we chose $F$ as the \"frequency\" variable and supposed that the average wait time was $1/2F$. But in real life, while $2F$ might be the frequency at which we send buses out of the depot, it's not necessarily the *frequency that passengers observe.* Anyone who has ever taken a bus more than a few times has probably had the following experience: You're waiting for a bus that's suppose to come at 5:45. The bus rolls up at 6:02 and, lo and behold, there's another bus right behind it! What happened? Are the drivers incompetent? Is it just bad luck?\n",
    "\n",
    "It turns out there is a rigorous, systematic reason that buses bunch: in the language of dynamic systems, a bus system running at even headways is in an *unstable equilibrium*. That's a fancy way to say that even headways are fragile; the slightest shock to the system—a couple of wheelchair-bound passengers getting on at the same stop, for instance—will throw the buses out of sync. And once they're out of sync, the buses get trapped in a vicious cycle that even good drivers are powerless to get out of."
   ]
  },
  {
   "cell_type": "markdown",
   "metadata": {},
   "source": [
    "## The importance of even headways\n",
    "\n",
    "Before we start looking at *why* buses bunch, we'll focus on understanding *why it matters.* The answer is that, ceteris paribus, more even headways mean lower aggregate waiting time. The figures below track the number of passengers waiting at a stop over time. Passengers arrive at the stop at a steady rate (the slope of the curves), and when a bus arrives the cumulative count drops to zero. The area under the curves is the amount of time spent waiting. The second figure, which shows uneven headways, has more area under the curve. So if we could stabilize headways we would not only meet our posted schedules but reduce the time spent waiting as well.\n",
    "\n",
    "<img src=\"./img/wait-times.png\" width=\"40%\"/>\n"
   ]
  },
  {
   "cell_type": "markdown",
   "metadata": {},
   "source": [
    "## Dynamical systems\n",
    "\n",
    "To analyze bus bunching, we have to get familiar with the idea of **dynamical systems**. [Why they're not called \"dynamic systems\" is beyond me. Who gave \"dynamic\" the \"al\" on the end?] Dynamical systems have a \"state\" that evolves in time according to a set of rules. Before getting to bus bunching we'll look at some simpler systems."
   ]
  },
  {
   "cell_type": "markdown",
   "metadata": {},
   "source": [
    "### The parking lot\n",
    "Consider a parking where $\\lambda$ cars arrive every hour. A fraction $\\rho$ of all cars parked at the start of every hour leave by the end of the hour. Let $x(t)$ be the number of cars in the lot at time $t$ (the state). In this case, the \"motion\" of the system is described by the equation\n",
    "\n",
    "$$\n",
    "\\begin{align}\n",
    "x(t+1) = x(t) + \\lambda - \\rho\\cdot x(t)\\\\\n",
    "x(t+1) = x(t)\\cdot (1-\\rho) + \\lambda.\\\\\n",
    "\\end{align}\n",
    "$$\n",
    "\n",
    "Now, one way to analyze the system is to plot this equation, as below:\n",
    "\n",
    "<img src=\"./img/dynamical.svg\" width=\"40%\"/>\n"
   ]
  },
  {
   "cell_type": "code",
   "execution_count": null,
   "metadata": {
    "collapsed": true
   },
   "outputs": [],
   "source": [
    "\n"
   ]
  }
 ],
 "metadata": {
  "anaconda-cloud": {},
  "kernelspec": {
   "display_name": "Python [conda root]",
   "language": "python",
   "name": "conda-root-py"
  },
  "language_info": {
   "codemirror_mode": {
    "name": "ipython",
    "version": 2
   },
   "file_extension": ".py",
   "mimetype": "text/x-python",
   "name": "python",
   "nbconvert_exporter": "python",
   "pygments_lexer": "ipython2",
   "version": "2.7.12"
  }
 },
 "nbformat": 4,
 "nbformat_minor": 2
}
