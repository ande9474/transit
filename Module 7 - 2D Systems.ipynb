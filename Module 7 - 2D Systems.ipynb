{
 "cells": [
  {
   "cell_type": "markdown",
   "metadata": {},
   "source": [
    "# Module 7: 2d Systems\n",
    "\n",
    "So far we have only dealt with 1D systems. Now it's time for 2D systems. \n",
    "\n",
    "<div style=\"display:flex; height: 200px;\">\n",
    "    <img src=\"./img/oregonTrail.gif\" width=\"50%\" /><img src=\"./img/cruisin.png\" width=\"50%\"/>\n",
    "</div>\n",
    "To put this in Millenial terms: We have been playing Oregon Trail, and now we're going to play Cruisin USA.\n",
    "\n",
    "As before, this basically means building a bunch of idealized models that each captures some important observation. Unlike the other models we've had looked at, I didn't invent these; they are straight from Carlos Daganzo's old course notes, so I can't take credit or blame for them."
   ]
  },
  {
   "cell_type": "markdown",
   "metadata": {},
   "source": [
    "## Model 1: Super-ideal system with different geometries\n",
    "\n",
    "Consider a transit system with infinite headways (i.e., demand is so high that frequency is really high) and no boarding or alighting time. The system accelerates instantaneously to $v_\\max$, so there's no stopping time penalty. People walk along a grid so that walk distance is given by the [Manhattan Distance](https://en.wiktionary.org/wiki/Manhattan_distance) between two points. The city is square with sides $\\phi$ and area $R$, so that $\\phi^2=R$. Origins and destinations are distributed evenly around the city. We have made these assumptions to emphasize the simple facts of system geometry at a minimum of complication.\n",
    "\n",
    "There are several ways to lay out such a system. What we are going to do is lay out the systems and then compare the average door-to-door travel speed among them.\n",
    " "
   ]
  },
  {
   "cell_type": "markdown",
   "metadata": {},
   "source": [
    "### Direct service\n",
    "\n",
    "There is only one route, and it winds around and around. The lines are spaced $s$ meters apart, and there are stops every $s$ meters. \n",
    "\n",
    "<img src=\"./img/directService.png\" width=\"50%\"/>\n",
    "\n",
    "Now imagine unwrapping the line and laying it out straight. If you do that, then you'll see there's a walkshed of $s/2$ on either side of the line. We can imagine that we're dealing with a long cooridor like this, where $L$ is the total line length.\n",
    "\n",
    "<img src=\"./img/longLine.png\"/>\n",
    "\n",
    "Therefore, this relation holds for area:\n",
    "\n",
    "$$\n",
    "Ls=R.\n",
    "$$\n",
    "\n",
    "The longest possible trip involves going $L/2$ on the bus (from the bottom left corner to the top right, for example). If you were traveling more than $L/2$, you could go around the other direction and save some time. Since that's the longest possible trip, the *average* trip is half of $L/2$: $L/4$. Therefore, the average in-vehicle travel time (IVTT) is\n",
    "\n",
    "$$\n",
    "IVTT = \\frac{L}{4v_\\max} = \\frac{R}{4sv_\\max}.\n",
    "$$\n",
    "\n",
    "As for walking time, consider that the average  the average trip begins $s/4$ meters north or south from the stop, and $s/4$ meters east or west of a stop. So the average walking trip *to* the stop is $s/2$ (since people walk along a grid). The same goes for trips *from* the stop. Therefore, the average walking distance is $s$. If people walk at rate $v_s$, then the average door-to-door trip time is\n",
    "\n",
    "$$\n",
    "t = \\frac{s}{v_s} + \\frac{R}{4sv_\\max}.\n",
    "$$\n",
    "\n",
    "This is an EOQ with respect to stop spacing. Solving yields\n",
    "\n",
    "$$\n",
    "t^* = \\left( \\frac{R}{v_s v_{\\max}} \\right)^{1/2}=\\frac{\\phi}{\\sqrt{v_s v_{\\max}}}.\n",
    "$$\n",
    "\n",
    "Now, please accept that the average Manhattan distance between two randomly-chosen points in a square with side-length $\\phi$ is $2\\phi/3$. I will explain why in class but not here, because it would take forever to type out and not teach you anything very useful. But I'll do it as a probability test so you believe me:"
   ]
  },
  {
   "cell_type": "code",
   "execution_count": 2,
   "metadata": {
    "collapsed": false
   },
   "outputs": [
    {
     "name": "stdout",
     "output_type": "stream",
     "text": [
      "Mean x distance is 2.00623871245.\n",
      "Mean x distance is 2.00623871245.\n",
      "Mean manhattan distbance is the sum 4.0124774249 which is about 2/3 of 6, as expected.\n"
     ]
    }
   ],
   "source": [
    "import numpy as np\n",
    "N = 10000 #number of sample points\n",
    "phi = 6 #side length\n",
    "\n",
    "generateRandomPoints = lambda : np.dstack([np.random.uniform(0,6,N),np.random.uniform(0,6,N)])[0]\n",
    "\n",
    "pt1 = generateRandomPoints()\n",
    "pt2 = generateRandomPoints()\n",
    "\n",
    "meanXDifference = np.mean(np.abs(pt2[:,0]-pt1[:,0])) #get the average X distance\n",
    "print \"Mean x distance is %s.\" % meanXDifference\n",
    "meanYDifference = np.mean(np.abs(pt2[:,0]-pt1[:,0])) # get average Y distance\n",
    "print \"Mean x distance is %s.\" % meanYDifference\n",
    "\n",
    "#now add the average y and x distances\n",
    "print \"Mean manhattan distbance is the sum %s which is about 2/3 of 6, \\\n",
    "as expected.\" % (meanXDifference + meanYDifference)"
   ]
  },
  {
   "cell_type": "markdown",
   "metadata": {},
   "source": [
    "Now, given that origins and destinations are on average $2/3\\phi$ apart (Manhattan distance) and $t^*$ is the avg. door-to-door trip time, then \n",
    "$$\n",
    "\\hat{v} = \\frac{2\\phi/3}{t^*}=\\frac{2}{3}\\sqrt{v_s}{v_\\max}\n",
    "$$\n",
    "is the average door-to-door speed.\n",
    "\n",
    "If $v_s = 3$ kph is the walking speed and $v{\\max}$ is the bus speed, then $\\hat{v}\\sim 8.25kph$, which is pretty bad given how fast the buses go. That's because the bus trip is so snake-like.\n",
    "\n",
    "<img src=\"./img/snake.gif\" width=\"35%\"/>"
   ]
  },
  {
   "cell_type": "markdown",
   "metadata": {},
   "source": [
    "### The Role of Transfers\n",
    "\n",
    "In addition to the Direct Service system treated above, now we'll look at a Hub-and-Spoke system and a Grid system. What's different about these systems is that they involve transfers.\n",
    "<div style=\"display: flex; text-align: center; justify-content: space-around;\">\n",
    "    <div>\n",
    "        <img src=\"./img/grid.png\" width=\"80%\"/>\n",
    "        <div>Grid</div>\n",
    "    </div>\n",
    "    <div>\n",
    "        <img src=\"./img/hubAndSpoke.png\" width=\"80%\"/>\n",
    "        <div>Hub and spoke</div>\n",
    "    </div>\n",
    "</div>\n",
    "\n",
    "We are interested in the comparing the costs of the three systems. Let $D=2L$ be the km of *directed service* provided. Reflection shows (I'll explain on the board) that the line length for the three systems are\n",
    "\n",
    "+ Direct Service: $L_{O} = \\frac{\\phi^2}{s}$\n",
    "+ Hub-and-Spoke: $L_H = \\frac{3\\phi^2}{2s}$\n",
    "+ Grid: $L_G = \\frac{2\\phi^2}{s}$.\n",
    "\n",
    "Now, if we fix $L$, we see the service provided different stop spacings by\n",
    "\n",
    "+ Direct Service: $s_{O} = \\frac{\\phi^2}{L}$\n",
    "+ Hub-and-Spoke: $s_H = \\frac{3\\phi^2}{2L}$\n",
    "+ Grid: $s_G = \\frac{2\\phi^2}{L}$.\n",
    "\n",
    "Verify by drawing little walking paths that the average Manhattan distance walking to the stop is still $s/2$ (as well as *from* the stop), so $s$ is still the average walk.\n",
    "\n",
    "Finallify, if we assume that all transfers happen at the center in the hub-and-spoke system, then the average distance spent riding ($r$) for the different systems are\n",
    "\n",
    "+ Direct Service: $r_{O} = \\frac{L}{4}$\n",
    "+ Hub-and-Spoke: $r_H = \\phi$\n",
    "+ Grid: $r_G = \\frac{2\\phi}{3}$.\n",
    "\n",
    "I'll derive these on the board.\n",
    "\n",
    "Now that we have the average walk distance and ride distance, then we can get the average trip times\n",
    "\n",
    "+ Direct Service: $T_{O} =  \\frac{\\phi^2}{Lv_s} + \\frac{L}{4v_\\max}$\n",
    "+ Hub-and-Spoke: $T_H = \\frac{3\\phi^2}{2Lv_s} + \\frac{\\phi}{v_\\max}$\n",
    "+ Grid: $T_G = \\frac{2\\phi^2}{Lv_s} + \\frac{2\\phi}{3v_\\max}$.\n",
    "\n",
    "Looking at these equations, what stands out is that the direct service one is an EOQ with $L$. So sometimes $T_O$ is increasing with $L$ and sometimes it's falling. For the transfer systems, on the other hand, travel time strictly falls with $L$: the more coverage, the better. Also notice the difference in terms of $T_H$ and $T_G$: the first term of $T_H$ is smaller than that of $T_G$, but the second term of $T_G$ is smaller than the second of $T_H$.\n",
    "\n",
    "Let's assume $v_\\max/v_s \\sim 5$. In that case, we can compare the three travel times using a dimensionless variable $i=L/\\phi$, which tells us something like the \"intensity\" of the transit system: the higher $L/\\phi$ is, the more service there is per acre. For example, in Manhattan this ratio would be very high, because there are tons of people per acre and they all pay high taxes for their transit system.\n",
    "\n",
    "$$\n",
    "T(i) = \\frac{\\phi}{v_\\max}\n",
    "\\begin{cases}\n",
    "5/i + i/4 & (\\text{direct service})\\\\\n",
    "7.5/i + 1 & (\\text{hub-and-spoke})\\\\\n",
    "10/i+2/3 & (\\text{grid}).\n",
    "\\end{cases}\n",
    "$$\n",
    "\n",
    "Plotting $T$ for each case we get a plot like this, where each segment of the horizontal axis is divded ot show which system provides the best performance for each level of $L/\\phi$. As you can see, when intensity is low you're best off with direct service; when it's moderate you want a hub-and-spoke; and when the system is very intense you'll want a grid.\n",
    "\n",
    "<img src=\"./img/performance.png\" width=\"50%\"/>\n"
   ]
  },
  {
   "cell_type": "markdown",
   "metadata": {},
   "source": [
    "The systems don't have to look just like the ones we outlined above, though. Here are some credible examples of how systems with different $L/\\phi$ might look.\n",
    "<img src=\"./img/systems.png\" width=\"50%\"/>"
   ]
  },
  {
   "cell_type": "markdown",
   "metadata": {},
   "source": [
    "Systems can also have hierarchies.\n",
    "\n",
    "<img src=\"./img/hierarchies.png\" width=\"75%\"/>"
   ]
  },
  {
   "cell_type": "markdown",
   "metadata": {},
   "source": [
    "It is also possible to conceive of different systems topologically.\n",
    "\n",
    "<img src=\"./img/nyc.jpeg\"/>"
   ]
  },
  {
   "cell_type": "markdown",
   "metadata": {},
   "source": [
    "<img src=\"./img/chicago.gif\" />"
   ]
  },
  {
   "cell_type": "markdown",
   "metadata": {},
   "source": [
    "In Buenos Aires,  and chicago, the system is a half ring-radial system\n",
    "<img src=\"./img/buenosAires.png\"/>"
   ]
  }
 ],
 "metadata": {
  "anaconda-cloud": {},
  "kernelspec": {
   "display_name": "Python [conda root]",
   "language": "python",
   "name": "conda-root-py"
  },
  "language_info": {
   "codemirror_mode": {
    "name": "ipython",
    "version": 2
   },
   "file_extension": ".py",
   "mimetype": "text/x-python",
   "name": "python",
   "nbconvert_exporter": "python",
   "pygments_lexer": "ipython2",
   "version": "2.7.12"
  }
 },
 "nbformat": 4,
 "nbformat_minor": 2
}
