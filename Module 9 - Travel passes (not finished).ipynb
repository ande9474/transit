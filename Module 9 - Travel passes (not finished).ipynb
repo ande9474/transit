{
 "cells": [
  {
   "cell_type": "markdown",
   "metadata": {},
   "source": [
    "## Travel passes\n",
    "\n",
    "Ramsey pricing is better than trying to charge everyone their average cost, but it turns out we can do even better through a technique used by transit operators every day: *discounts for frequent riders implemented via travel passes*. This practice counts as [third-degree price discrimination](https://en.wikipedia.org/wiki/Price_discrimination#Third_degree). One way to do so is to sell passes, like the unlimited-rides monthly pass from AC Transit.  Another way is memberships or discount cards: with the \"Railcard\" in the UK, you pay $70$ pounds and then get a $1/3$ discount off individual rides. However it's implemented, a rider pays an upfront charge to get cheaper individual rides. The basic economic idea is that the upfront charge (the cost of the travel pass) pays for the fixed cost of service, while the discounted fare pays for the marginal cost.\n",
    "\n",
    "<div style=\"display: flex; padding:10px;\">\n",
    "<div><img src=\"./img/monthpass.png\"/></div>\n",
    "<div><img src=\"./img/railcard.png\"/></div>\n",
    "</div>\n",
    "\n"
   ]
  },
  {
   "cell_type": "markdown",
   "metadata": {},
   "source": [
    "### Model 1: Travel cards w/ one type of rider\n",
    "\n",
    "You're running a transit service with fixed cost $f_0$ and a marginal cost $c$. There are $N$ identical riders each with his own demand curve $p_i(q_i)$ giving his personal demand curve. Suppose that the individual rider's consumer surplus, evaluated when price $p=c$, is $S_i$. Suppose furthermore that $S_i>f_0/N$. In this case, the value to riders of the service, when priced at marginal cost, outweighs its fixed cost. Therefore, if we sell a travel card for $f_0/N$ that lets riders buy rides at price $c$, then riders will take us up on the deal. So we will be able to price at marginal cost, and still cover all the fixed costs. The efficiency lost from average cost pricing is eliminated.\n",
    "\n",
    "<img width=\"40%\" src=\"./img/two-part-universal.svg\"/>\n"
   ]
  },
  {
   "cell_type": "markdown",
   "metadata": {},
   "source": [
    "### Model 2: Travel cards w/ two types of rider\n",
    "\n",
    "In this model, there are two types of rider, a high-demand ($H$) type and a low-demand ($L$) type, with $p_H(q)>p_L(q)$. Their consumer surpluses, when price equals marginal cost, are $S_H$ and $S_L$. Their population sizes are $N_H$ and $N_L$. \n",
    "\n",
    "Now, if things were simple we could sell a travel card for the average fixed cost per rider, $f_0/(N_H+N_L)$--- like we did in model 1. That would cover the fixed cost. But suppose that $S_L<f_0/(N_H+N_L)$. The low-demand consumers won't buy the travel card at that price, because their total surplus from having $P=c$ isn't high enough to justify it.\n",
    "\n",
    "<img src=\"./img/two-part-dual.svg\" width=\"40%\"/>"
   ]
  },
  {
   "cell_type": "markdown",
   "metadata": {},
   "source": [
    "In this situation, we can do better by offering *two* travel cards: \n",
    "\n",
    "1. Card 1: travel card cost $A_1$ with price $p_1$\n",
    "2. Card 2: travel card cost $A_2$ with price $p_2$\n",
    "\n",
    "where $A_2>A_1$ and $p_2<p_1$. One way to compare the cards is to plot total \"expenditure\", $T_i$, with each card as a function of the number of rides taken.\n",
    "\n",
    "\\begin{align}\n",
    "T_1(q) = A_1 + p_1 q\\\\\n",
    "T_2(q) = A_2+p_2 q\n",
    "\\end{align}\n",
    "\n",
    "<img src=\"./img/expenditure.svg\" width=\"35%\"/>\n",
    "\n",
    "If you're only doing a few rides, you're better off with Card 1 (lower $T$ for low $q$). But if you're riding often you'll want Card 2. Thus, if you choose your prices correctly the two groups will sort themselves out. The high-demand group will choose Card 2 and pay a price very close to marginal cost, while the low-demand group pays a higher price. Choosing the optimal prices is a mathematical problem we won't get into."
   ]
  }
 ],
 "metadata": {
  "kernelspec": {
   "display_name": "Python [conda root]",
   "language": "python",
   "name": "conda-root-py"
  },
  "language_info": {
   "codemirror_mode": {
    "name": "ipython",
    "version": 2
   },
   "file_extension": ".py",
   "mimetype": "text/x-python",
   "name": "python",
   "nbconvert_exporter": "python",
   "pygments_lexer": "ipython2",
   "version": "2.7.12"
  }
 },
 "nbformat": 4,
 "nbformat_minor": 2
}
