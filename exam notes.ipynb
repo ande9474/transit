{
 "cells": [
  {
   "cell_type": "markdown",
   "metadata": {
    "collapsed": true
   },
   "source": [
    "## Ramsey pricing\n",
    "\n",
    "The idea of Ramsey pricing is to come up with prices for various services (routes) that cover the fixed costs on all services.\n",
    "\n",
    "+ Lerner index is the portion of the fare that goes towards fixed costs, rather than marginal/operating costs.\n",
    "\n",
    "$$\n",
    "L_i = \\frac{p_i-c_i}{p_i} \n",
    "$$\n",
    "\n",
    "+ Under a Ramsey pricing system, the Lerner index on each service (route) is inversely proportional to the own-price elasticity of demand, like this:\n",
    "$$\n",
    "L_i = \\frac{\\phi}{\\varepsilon_i}\n",
    "$$\n",
    "where\n",
    "$$\n",
    "\\varepsilon_i = \\frac{\\partial q/q}{\\partial p/p} = \\frac{\\partial q}{\\partial p}\\cdot \\frac{p}{q}\n",
    "$$\n",
    "and $\\phi$ is a constant that holds across routes.\n"
   ]
  },
  {
   "cell_type": "markdown",
   "metadata": {},
   "source": [
    "## Peak load pricing\n",
    "\n",
    "The idea of peak-load pricing is to come up with prices for peak and off-peak service so as to pay for shared capacity that both services utilize. The peak has a higher demand for all price levels than the off-peak. A \"firm peak\" situation is where the peak service has higher demand than the off-peak even if it pays for the shared capacity itself. In a \"shifting peak\" case, unless the off-peak is charged for capacity, its demand will exceed capacity."
   ]
  },
  {
   "cell_type": "markdown",
   "metadata": {},
   "source": [
    "## Consumer surplus\n",
    "\n",
    "Consumer surplus can be found by the integral:\n",
    "\n",
    "$$\n",
    "CS(q)=\\int_0^q \\bigg( p(x)dx \\bigg} - p(q)\\cdot q\n",
    "$$\n",
    "where $P(q)$ is the inverse demand curve; or\n",
    "$$\n",
    "CS(p)=\\int_p^{p_\\max} q(x)dx,\n",
    "$$\n",
    "where $q(p)$ is the demand curve and $p_\\max$ is the maximum price anyone will pay (the intercept of the inverse demand curve and the root of the demand curve). Below are some demand curves and their consumer surpluses, so you don't have to integrate on the fly. (*Note that real demand curves may have other arguments, such as wait time, but I am only writing the \"price\" part and the intercept*).\n",
    "\n",
    "+ Linear demand. $q = a - c_p p$. $$CS(q)=q^2/2c_p$$\n",
    "+ Log demand. $q = e^{a -c_p p}$ or $\\ln q = a - c_p p$. $$CS(q)=q/c_p$$"
   ]
  },
  {
   "cell_type": "markdown",
   "metadata": {},
   "source": [
    "## EOQ (economic order quantity)\n",
    "\n",
    "Economic order quantities are expressions where the same variable is in the denominator in one term and in the numerator in another.\n",
    "\n",
    "$$\n",
    "z = Ax^\\alpha + Bx^{-\\beta}\n",
    "$$\n",
    "\n",
    "$$\n",
    "x^* = \\left( \\frac{B\\beta}{A\\alpha}\\right)^{\\frac{1}{\\alpha + \\beta}}\n",
    "$$\n",
    "\n",
    "$$\n",
    "z^* = A^{\\frac{\\beta}{\\alpha+\\beta}} B^{\\frac{\\alpha}{\\alpha+\\beta}}\n",
    "\\left[ \n",
    "\\left( \\frac{\\beta}{\\alpha} \\right) ^{\\frac{\\alpha}{\\alpha+\\beta}} + \\left(\\frac{\\alpha}{\\beta}\\right)^{\\frac{\\beta}{\\alpha+\\beta}}\n",
    "\\right]\n",
    "$$\n"
   ]
  },
  {
   "cell_type": "markdown",
   "metadata": {},
   "source": [
    "## General terms\n",
    "\n",
    "+ \"Break even\" means you have to choose design parameters such that the service exactly covers its costs, including variable costs and fixed costs. The service makes neither a profit nor a loss. This is true when total revenues equal total costs net of subsidy. Another way to say this is that price equals the average cost per ride net of subsidy. By \"net of subsidy\" I mean any subsidy is subtracted from the costs.\n",
    "+ A \"feasibility contour\" is the name I've given to the plot of combinations of variables you can achieve while breaking even. It may be an elipse in a plot where price is on the vertical axis and ridership is on the horizontal, but it could also be a different shape or be in a space with frequency on the vertical axis and price on the horizontal axis.\n",
    "+ \"Marginal cost\" is the cost per ride, such as buying a disabled person a taxi ride. \"Fixed cost\" is a cost that your service requires pretty much regardless of how many people ride it, such as the cost of hiring a CEO or laying track for a streetcar."
   ]
  }
 ],
 "metadata": {
  "anaconda-cloud": {},
  "kernelspec": {
   "display_name": "Python [conda root]",
   "language": "python",
   "name": "conda-root-py"
  },
  "language_info": {
   "codemirror_mode": {
    "name": "ipython",
    "version": 2
   },
   "file_extension": ".py",
   "mimetype": "text/x-python",
   "name": "python",
   "nbconvert_exporter": "python",
   "pygments_lexer": "ipython2",
   "version": "2.7.12"
  }
 },
 "nbformat": 4,
 "nbformat_minor": 2
}
