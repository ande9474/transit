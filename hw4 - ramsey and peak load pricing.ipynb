{
 "cells": [
  {
   "cell_type": "markdown",
   "metadata": {},
   "source": [
    "# Homework 4 - Ramsey and peak load pricing\n",
    "\n",
    "Due Tuesday April 4th."
   ]
  },
  {
   "cell_type": "markdown",
   "metadata": {},
   "source": [
    "# Problem A: Ramsey pricing\n",
    "\n",
    "You're operating a transit service with two routes: 1 and 2. All have constant elasticity of demand functions $q_i(p)=\\gamma_i p_i^{-\\beta_i}$. Marginal cost on route $i$ is $c_i$. Each route has a fixed cost $f$, so the total fixed cost is $2f$.\n",
    "\n",
    "The parameters are: \n",
    "\n",
    "+ $f=3$\n",
    "+ $a_1=5$\n",
    "+ $e_1=0.8$\n",
    "+ $c_1=1.25$\n",
    "+ $a_2=3$\n",
    "+ $e_2=0.4$\n",
    "+ $c_2=0.9$\n",
    "\n",
    "\n",
    "1. Derive the inverse demand function $p_i(q_i)$. (0.5 pts)\n",
    "\n",
    "2. Derive an expression for consumer surplus as a function of price given the demand function. (0.5 pts)\n",
    "\n",
    "2. Using Ramsey pricing like we learned in class, find the optimal price $p_i^*$ and quantity $q_i^*$ for each route. (2 pts)\n",
    "\n",
    "5. Find the prices, quantities and consumer surplus when each route must cover its own fixed costs. (1 pt)\n",
    "\n",
    "6. Suppose that, for political or practical reasons, you have to charge the same price on both routes. Find what price you'd have to charge, then calculate the ridership and consumer surplus on each route. (Hint: sum the two demand curves). (1 pt)\n",
    "\n",
    "6. Find prices, consumer surplus and ridership on each route if taxpayers pay for the fixed costs and each route is priced at marginal cost. (1 pt)\n",
    "\n",
    "\n",
    "\n"
   ]
  },
  {
   "cell_type": "markdown",
   "metadata": {},
   "source": [
    "# Problem B: Peak-load pricing\n",
    "\n",
    "You're operating a ferry with service in two directions: 1 and 2.\n",
    "\n",
    "\n",
    "The demand curves are given by $q_i(p_i) = a_i - \\beta_i p_i$.\n",
    "\n",
    "Capacity on the ferry costs $C$ per rider. The marginal cost of a rider is $c$.\n",
    "\n",
    "The demand parameters are $a_1 = 10$, $a_2=5$, $\\beta_1=2.0$, $\\beta_2=1.25$. \n",
    "\n",
    "1. Suppose that you get a capital subsidy from the federal government, so capacity is very cheap: $C=0.3$. What is the optimal capacity to supply. What will is the optimal price and ridership in each direction? (1 pt)\n",
    "\n",
    "2. Suppose that there is a budget crisis, and you lose your capital subsidy. Now $C=10$! What is the optimal capacity and the optimal price and ridership in each direction? (1 pt)\n",
    "\n",
    "3. $\\tilde{C}$ is a threshold capacity cost. For  $C<\\tilde{C}$, the optimal charge in one direction will be equal to marginal cost. For $C>\\tilde{C}$, it makes sense to charge both directions more than marginal cost. What is $\\tilde{C}$? (1pt)"
   ]
  }
 ],
 "metadata": {
  "anaconda-cloud": {},
  "kernelspec": {
   "display_name": "Python [conda root]",
   "language": "python",
   "name": "conda-root-py"
  },
  "language_info": {
   "codemirror_mode": {
    "name": "ipython",
    "version": 2
   },
   "file_extension": ".py",
   "mimetype": "text/x-python",
   "name": "python",
   "nbconvert_exporter": "python",
   "pygments_lexer": "ipython2",
   "version": "2.7.12"
  }
 },
 "nbformat": 4,
 "nbformat_minor": 2
}
